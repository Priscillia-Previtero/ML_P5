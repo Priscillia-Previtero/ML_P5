{
 "cells": [
  {
   "cell_type": "code",
   "execution_count": 233,
   "metadata": {},
   "outputs": [],
   "source": [
    "# structure de données\n",
    "import pandas as pd\n",
    "import numpy as np\n",
    "from collections import Counter\n",
    "\n",
    "# Traitement de texte\n",
    "from bs4 import BeautifulSoup\n",
    "import re\n",
    "import nltk\n",
    "from sklearn.feature_extraction.text import CountVectorizer\n",
    "\n",
    "# graphique\n",
    "import matplotlib.pyplot as plt\n",
    "from wordcloud import WordCloud"
   ]
  },
  {
   "cell_type": "code",
   "execution_count": 234,
   "metadata": {},
   "outputs": [
    {
     "name": "stderr",
     "output_type": "stream",
     "text": [
      "[nltk_data] Downloading package punkt to\n",
      "[nltk_data]     C:\\Users\\Admin\\AppData\\Roaming\\nltk_data...\n",
      "[nltk_data]   Package punkt is already up-to-date!\n",
      "[nltk_data] Downloading package wordnet to\n",
      "[nltk_data]     C:\\Users\\Admin\\AppData\\Roaming\\nltk_data...\n",
      "[nltk_data]   Package wordnet is already up-to-date!\n"
     ]
    },
    {
     "data": {
      "text/plain": [
       "True"
      ]
     },
     "execution_count": 234,
     "metadata": {},
     "output_type": "execute_result"
    }
   ],
   "source": [
    "nltk.download('punkt')\n",
    "nltk.download('wordnet')"
   ]
  },
  {
   "cell_type": "markdown",
   "metadata": {},
   "source": [
    "# A. Importation des données"
   ]
  },
  {
   "cell_type": "markdown",
   "metadata": {},
   "source": [
    "##### Fichiers csv provenant de l'extraction SQL de StackOverFlow. Seule une partie de la table \"posts\" a été récupérée. Les questions ont été sélectionnées en fonction : \n",
    "- de leur score\n",
    "- de leur nombre de vues\n",
    "- du nombre de réponses\n",
    "- de nombre de commentaires\n",
    "- du nombre de personnes l'ayant mise en favori"
   ]
  },
  {
   "cell_type": "code",
   "execution_count": 235,
   "metadata": {},
   "outputs": [],
   "source": [
    "train = pd.read_csv(\"train.csv\", sep=',', header=0)\n",
    "test = pd.read_csv('test.csv', sep=',', header=0)"
   ]
  },
  {
   "cell_type": "code",
   "execution_count": 236,
   "metadata": {},
   "outputs": [
    {
     "name": "stdout",
     "output_type": "stream",
     "text": [
      "La table d'entrainement a 204432 posts et 9 variables\n"
     ]
    },
    {
     "data": {
      "text/html": [
       "<div>\n",
       "<style scoped>\n",
       "    .dataframe tbody tr th:only-of-type {\n",
       "        vertical-align: middle;\n",
       "    }\n",
       "\n",
       "    .dataframe tbody tr th {\n",
       "        vertical-align: top;\n",
       "    }\n",
       "\n",
       "    .dataframe thead th {\n",
       "        text-align: right;\n",
       "    }\n",
       "</style>\n",
       "<table border=\"1\" class=\"dataframe\">\n",
       "  <thead>\n",
       "    <tr style=\"text-align: right;\">\n",
       "      <th></th>\n",
       "      <th>Id</th>\n",
       "      <th>Score</th>\n",
       "      <th>ViewCount</th>\n",
       "      <th>Body</th>\n",
       "      <th>Title</th>\n",
       "      <th>Tags</th>\n",
       "      <th>AnswerCount</th>\n",
       "      <th>CommentCount</th>\n",
       "      <th>FavoriteCount</th>\n",
       "    </tr>\n",
       "  </thead>\n",
       "  <tbody>\n",
       "    <tr>\n",
       "      <th>0</th>\n",
       "      <td>26477388</td>\n",
       "      <td>23</td>\n",
       "      <td>5693.0</td>\n",
       "      <td>&lt;p&gt;In SBT is the use of &lt;em&gt;aggregate&lt;/em&gt; fol...</td>\n",
       "      <td>Is the use of 'aggregate' following by 'depend...</td>\n",
       "      <td>&lt;build&gt;&lt;sbt&gt;</td>\n",
       "      <td>1.0</td>\n",
       "      <td>0</td>\n",
       "      <td>9.0</td>\n",
       "    </tr>\n",
       "    <tr>\n",
       "      <th>1</th>\n",
       "      <td>20580028</td>\n",
       "      <td>22</td>\n",
       "      <td>37747.0</td>\n",
       "      <td>&lt;p&gt;I'm designed a &lt;a href=\"http://en.wikipedia...</td>\n",
       "      <td>Flowchart \"for each\" loop loop without variabl...</td>\n",
       "      <td>&lt;flowchart&gt;</td>\n",
       "      <td>5.0</td>\n",
       "      <td>1</td>\n",
       "      <td>2.0</td>\n",
       "    </tr>\n",
       "    <tr>\n",
       "      <th>2</th>\n",
       "      <td>15096219</td>\n",
       "      <td>22</td>\n",
       "      <td>21065.0</td>\n",
       "      <td>&lt;p&gt;I'm trying to register a new log&lt;/p&gt;\\n\\n&lt;pr...</td>\n",
       "      <td>How to create a folder (if not present) with L...</td>\n",
       "      <td>&lt;ruby-on-rails&gt;&lt;ruby&gt;&lt;logging&gt;</td>\n",
       "      <td>3.0</td>\n",
       "      <td>0</td>\n",
       "      <td>4.0</td>\n",
       "    </tr>\n",
       "    <tr>\n",
       "      <th>3</th>\n",
       "      <td>16853747</td>\n",
       "      <td>87</td>\n",
       "      <td>11309.0</td>\n",
       "      <td>&lt;pre&gt;&lt;code&gt;class Test{\\n    public static void...</td>\n",
       "      <td>Static block in Java not executed</td>\n",
       "      <td>&lt;java&gt;&lt;static&gt;&lt;access-modifiers&gt;</td>\n",
       "      <td>5.0</td>\n",
       "      <td>2</td>\n",
       "      <td>26.0</td>\n",
       "    </tr>\n",
       "    <tr>\n",
       "      <th>4</th>\n",
       "      <td>2036744</td>\n",
       "      <td>27</td>\n",
       "      <td>21402.0</td>\n",
       "      <td>&lt;p&gt;I have to write some code in ML and it is m...</td>\n",
       "      <td>ML IDE and Compiler for Windows or Linux or Mac</td>\n",
       "      <td>&lt;ide&gt;&lt;compiler-construction&gt;&lt;programming-langu...</td>\n",
       "      <td>6.0</td>\n",
       "      <td>0</td>\n",
       "      <td>17.0</td>\n",
       "    </tr>\n",
       "  </tbody>\n",
       "</table>\n",
       "</div>"
      ],
      "text/plain": [
       "         Id  Score  ViewCount  \\\n",
       "0  26477388     23     5693.0   \n",
       "1  20580028     22    37747.0   \n",
       "2  15096219     22    21065.0   \n",
       "3  16853747     87    11309.0   \n",
       "4   2036744     27    21402.0   \n",
       "\n",
       "                                                Body  \\\n",
       "0  <p>In SBT is the use of <em>aggregate</em> fol...   \n",
       "1  <p>I'm designed a <a href=\"http://en.wikipedia...   \n",
       "2  <p>I'm trying to register a new log</p>\\n\\n<pr...   \n",
       "3  <pre><code>class Test{\\n    public static void...   \n",
       "4  <p>I have to write some code in ML and it is m...   \n",
       "\n",
       "                                               Title  \\\n",
       "0  Is the use of 'aggregate' following by 'depend...   \n",
       "1  Flowchart \"for each\" loop loop without variabl...   \n",
       "2  How to create a folder (if not present) with L...   \n",
       "3                  Static block in Java not executed   \n",
       "4    ML IDE and Compiler for Windows or Linux or Mac   \n",
       "\n",
       "                                                Tags  AnswerCount  \\\n",
       "0                                       <build><sbt>          1.0   \n",
       "1                                        <flowchart>          5.0   \n",
       "2                     <ruby-on-rails><ruby><logging>          3.0   \n",
       "3                   <java><static><access-modifiers>          5.0   \n",
       "4  <ide><compiler-construction><programming-langu...          6.0   \n",
       "\n",
       "   CommentCount  FavoriteCount  \n",
       "0             0            9.0  \n",
       "1             1            2.0  \n",
       "2             0            4.0  \n",
       "3             2           26.0  \n",
       "4             0           17.0  "
      ]
     },
     "execution_count": 236,
     "metadata": {},
     "output_type": "execute_result"
    }
   ],
   "source": [
    "print(\"La table d'entrainement a {} posts et {} variables\".format(\n",
    "    train.shape[0], train.shape[1]))\n",
    "train.head()"
   ]
  },
  {
   "cell_type": "code",
   "execution_count": 237,
   "metadata": {},
   "outputs": [
    {
     "name": "stdout",
     "output_type": "stream",
     "text": [
      "La table de test a 51109 posts et 9 variables\n"
     ]
    },
    {
     "data": {
      "text/html": [
       "<div>\n",
       "<style scoped>\n",
       "    .dataframe tbody tr th:only-of-type {\n",
       "        vertical-align: middle;\n",
       "    }\n",
       "\n",
       "    .dataframe tbody tr th {\n",
       "        vertical-align: top;\n",
       "    }\n",
       "\n",
       "    .dataframe thead th {\n",
       "        text-align: right;\n",
       "    }\n",
       "</style>\n",
       "<table border=\"1\" class=\"dataframe\">\n",
       "  <thead>\n",
       "    <tr style=\"text-align: right;\">\n",
       "      <th></th>\n",
       "      <th>Id</th>\n",
       "      <th>Score</th>\n",
       "      <th>ViewCount</th>\n",
       "      <th>Body</th>\n",
       "      <th>Title</th>\n",
       "      <th>Tags</th>\n",
       "      <th>AnswerCount</th>\n",
       "      <th>CommentCount</th>\n",
       "      <th>FavoriteCount</th>\n",
       "    </tr>\n",
       "  </thead>\n",
       "  <tbody>\n",
       "    <tr>\n",
       "      <th>0</th>\n",
       "      <td>14964108</td>\n",
       "      <td>26</td>\n",
       "      <td>32507.0</td>\n",
       "      <td>&lt;p&gt;I'm currently trying to build a little test...</td>\n",
       "      <td>Alternative to PhantomJS for Testing</td>\n",
       "      <td>&lt;javascript&gt;&lt;testing&gt;&lt;phantomjs&gt;</td>\n",
       "      <td>4.0</td>\n",
       "      <td>1</td>\n",
       "      <td>7.0</td>\n",
       "    </tr>\n",
       "    <tr>\n",
       "      <th>1</th>\n",
       "      <td>7439273</td>\n",
       "      <td>26</td>\n",
       "      <td>18913.0</td>\n",
       "      <td>&lt;p&gt;I am handling touches for a couple of my UI...</td>\n",
       "      <td>UIScrollView prevents touchesBegan, touchesMov...</td>\n",
       "      <td>&lt;iphone&gt;&lt;uiscrollview&gt;&lt;touch&gt;&lt;viewcontroller&gt;&lt;...</td>\n",
       "      <td>5.0</td>\n",
       "      <td>1</td>\n",
       "      <td>8.0</td>\n",
       "    </tr>\n",
       "    <tr>\n",
       "      <th>2</th>\n",
       "      <td>29382728</td>\n",
       "      <td>26</td>\n",
       "      <td>14626.0</td>\n",
       "      <td>&lt;p&gt;I just read somewhere that having an interf...</td>\n",
       "      <td>Constant Interface Anti-Pattern Clarification</td>\n",
       "      <td>&lt;java&gt;</td>\n",
       "      <td>4.0</td>\n",
       "      <td>2</td>\n",
       "      <td>3.0</td>\n",
       "    </tr>\n",
       "    <tr>\n",
       "      <th>3</th>\n",
       "      <td>13883404</td>\n",
       "      <td>26</td>\n",
       "      <td>68725.0</td>\n",
       "      <td>&lt;p&gt;I'm interested in a PowerShell script that ...</td>\n",
       "      <td>Custom RoboCopy Progress Bar in PowerShell</td>\n",
       "      <td>&lt;powershell&gt;</td>\n",
       "      <td>7.0</td>\n",
       "      <td>2</td>\n",
       "      <td>20.0</td>\n",
       "    </tr>\n",
       "    <tr>\n",
       "      <th>4</th>\n",
       "      <td>27241881</td>\n",
       "      <td>26</td>\n",
       "      <td>20075.0</td>\n",
       "      <td>&lt;p&gt;I am trying to rename the class name in swi...</td>\n",
       "      <td>How to rename the class name in swift?</td>\n",
       "      <td>&lt;ios&gt;&lt;swift&gt;</td>\n",
       "      <td>7.0</td>\n",
       "      <td>6</td>\n",
       "      <td>3.0</td>\n",
       "    </tr>\n",
       "  </tbody>\n",
       "</table>\n",
       "</div>"
      ],
      "text/plain": [
       "         Id  Score  ViewCount  \\\n",
       "0  14964108     26    32507.0   \n",
       "1   7439273     26    18913.0   \n",
       "2  29382728     26    14626.0   \n",
       "3  13883404     26    68725.0   \n",
       "4  27241881     26    20075.0   \n",
       "\n",
       "                                                Body  \\\n",
       "0  <p>I'm currently trying to build a little test...   \n",
       "1  <p>I am handling touches for a couple of my UI...   \n",
       "2  <p>I just read somewhere that having an interf...   \n",
       "3  <p>I'm interested in a PowerShell script that ...   \n",
       "4  <p>I am trying to rename the class name in swi...   \n",
       "\n",
       "                                               Title  \\\n",
       "0               Alternative to PhantomJS for Testing   \n",
       "1  UIScrollView prevents touchesBegan, touchesMov...   \n",
       "2      Constant Interface Anti-Pattern Clarification   \n",
       "3         Custom RoboCopy Progress Bar in PowerShell   \n",
       "4             How to rename the class name in swift?   \n",
       "\n",
       "                                                Tags  AnswerCount  \\\n",
       "0                   <javascript><testing><phantomjs>          4.0   \n",
       "1  <iphone><uiscrollview><touch><viewcontroller><...          5.0   \n",
       "2                                             <java>          4.0   \n",
       "3                                       <powershell>          7.0   \n",
       "4                                       <ios><swift>          7.0   \n",
       "\n",
       "   CommentCount  FavoriteCount  \n",
       "0             1            7.0  \n",
       "1             1            8.0  \n",
       "2             2            3.0  \n",
       "3             2           20.0  \n",
       "4             6            3.0  "
      ]
     },
     "execution_count": 237,
     "metadata": {},
     "output_type": "execute_result"
    }
   ],
   "source": [
    "print(\"La table de test a {} posts et {} variables\".format(\n",
    "    test.shape[0], test.shape[1]))\n",
    "test.head()"
   ]
  },
  {
   "cell_type": "code",
   "execution_count": 238,
   "metadata": {},
   "outputs": [],
   "source": [
    "def hist_plot(df, var, name, nb_bins=50):\n",
    "    df[var].hist(density=True, bins=nb_bins)\n",
    "    plt.xlabel(var)\n",
    "    plt.ylabel('Densité')\n",
    "    plt.title('Distribution de {} \\npour un échantillon de {} individus sur le jeu de {}'.format(\n",
    "        var, df.shape[0], name))"
   ]
  },
  {
   "cell_type": "code",
   "execution_count": 239,
   "metadata": {},
   "outputs": [
    {
     "data": {
      "image/png": "[encoded data removed]",
      "text/plain": [
       "<Figure size 1440x720 with 4 Axes>"
      ]
     },
     "metadata": {
      "needs_background": "light"
     },
     "output_type": "display_data"
    }
   ],
   "source": [
    "# Score des questions\n",
    "plt.figure(figsize=(20, 10))\n",
    "plt.subplot(221)\n",
    "hist_plot(train, 'Score','train', 500)\n",
    "plt.subplot(222)\n",
    "hist_plot(train, 'ViewCount', 'train', 500)\n",
    "plt.subplot(223)\n",
    "hist_plot(test, 'Score','test', 500)\n",
    "plt.subplot(224)\n",
    "hist_plot(test, 'ViewCount', 'test', 500)"
   ]
  },
  {
   "cell_type": "markdown",
   "metadata": {},
   "source": [
    "##### Après analyse on se rend compte que les jeux de données sont encore trop conséquents pour les performances de notre PC, on va donc les réduire en filtrant par rapport au score."
   ]
  },
  {
   "cell_type": "code",
   "execution_count": 240,
   "metadata": {},
   "outputs": [
    {
     "name": "stdout",
     "output_type": "stream",
     "text": [
      "La table de train a maintenant 23215 posts\n"
     ]
    }
   ],
   "source": [
    "train = train[train['Score'] > 125]\n",
    "print('La table de train a maintenant {} posts'.format(train.shape[0]))"
   ]
  },
  {
   "cell_type": "code",
   "execution_count": 241,
   "metadata": {},
   "outputs": [
    {
     "name": "stdout",
     "output_type": "stream",
     "text": [
      "La table de test a maintenant 5570 posts\n"
     ]
    }
   ],
   "source": [
    "test = test[test['Score'] > 125]\n",
    "print('La table de test a maintenant {} posts'.format(test.shape[0]))"
   ]
  },
  {
   "cell_type": "code",
   "execution_count": 242,
   "metadata": {},
   "outputs": [],
   "source": [
    "train = train.drop(columns=['Id', 'Score', 'ViewCount', 'AnswerCount', 'CommentCount', 'FavoriteCount'])\n",
    "test = test.drop(columns=['Id', 'Score', 'ViewCount', 'AnswerCount', 'CommentCount', 'FavoriteCount'])"
   ]
  },
  {
   "cell_type": "markdown",
   "metadata": {},
   "source": [
    "##### Maintenant que les jeux de données sont réduits, seul le texte et les tags nous intéressent, on peut passer aux prétraitements."
   ]
  },
  {
   "cell_type": "markdown",
   "metadata": {},
   "source": [
    "# B. Nettoyage des tables"
   ]
  },
  {
   "cell_type": "markdown",
   "metadata": {},
   "source": [
    "## B.1. Variables de prédiction"
   ]
  },
  {
   "cell_type": "markdown",
   "metadata": {},
   "source": [
    "### B.1.a. Extraction des labels à partir de tags"
   ]
  },
  {
   "cell_type": "markdown",
   "metadata": {},
   "source": [
    "##### Il est nécessaire de remettre en forme les tags pour les analyser, on supprime les balises < et > les entourant"
   ]
  },
  {
   "cell_type": "code",
   "execution_count": 243,
   "metadata": {},
   "outputs": [],
   "source": [
    "def extract_label(serie):\n",
    "    return [', '.join(map(str, re.findall(r'\\<(.*?)\\>', x))) for x in serie]"
   ]
  },
  {
   "cell_type": "markdown",
   "metadata": {},
   "source": [
    "### B.1.b. Suppression labels avec faible occurence"
   ]
  },
  {
   "cell_type": "markdown",
   "metadata": {},
   "source": [
    "##### Afin de réduire le nombre de classes on fusionne certaines d'entre elles, notamment celles où seul le numéro de version diffère (ex : python et python 1.6.0)"
   ]
  },
  {
   "cell_type": "code",
   "execution_count": 244,
   "metadata": {},
   "outputs": [],
   "source": [
    "# merge labels\n",
    "def get_general_label(label):\n",
    "    if 'python' in label:\n",
    "        return 'python'\n",
    "    elif 'c++' in label:\n",
    "        return 'c++'\n",
    "    elif 'asp.net' in label:\n",
    "        return 'asp.net'\n",
    "    elif 'ruby-on-rails' in label:\n",
    "        return 'ruby-on-rails'\n",
    "    elif 'visual-studio' in label:\n",
    "        return 'visual-studio'\n",
    "    elif 'javascript' in label:\n",
    "        return 'javascript'\n",
    "    elif 'java' in label:\n",
    "        return 'java'\n",
    "    elif 'angular' in label:\n",
    "        return 'angular'\n",
    "    elif 'android_studio' in label:\n",
    "        return 'android-studio'\n",
    "    elif 'android' in label:\n",
    "        return 'android'\n",
    "    else:\n",
    "        return label"
   ]
  },
  {
   "cell_type": "markdown",
   "metadata": {},
   "source": [
    "##### On se fixe un seuil minimal d'occurence et on récupère l'ensemble des tags supérieur à ce seuil. Ceci afin de réduire le nombre de tags et améliorer nos performances même si on perd en précision et en variété de tags"
   ]
  },
  {
   "cell_type": "code",
   "execution_count": 245,
   "metadata": {},
   "outputs": [],
   "source": [
    "def get_most_frequent_label(series, threshold=5):\n",
    "    # récupération de tous les labels\n",
    "    list_labels = [get_general_label(j) for i in series for j in i.split(\", \")]\n",
    "\n",
    "    # On conserve les labels dont la fréquence d'apparition est > threshold\n",
    "    freq = pd.Series(list_labels).value_counts()\n",
    "    print(freq)\n",
    "    clean_list_labels = freq[freq >= threshold]\n",
    "    print('{} tags sur {} ont été conservés'.format(\n",
    "        clean_list_labels.shape[0], freq.shape[0]))\n",
    "\n",
    "    return clean_list_labels"
   ]
  },
  {
   "cell_type": "markdown",
   "metadata": {},
   "source": [
    "##### Une fois la liste de tags réduite récupérée, on filtre les deux jeux de données avec celle-ci. Il faut faire attention à supprimer les posts qui n'auraient plus aucun tag existant et à fusionner les tags doublons"
   ]
  },
  {
   "cell_type": "code",
   "execution_count": 246,
   "metadata": {},
   "outputs": [],
   "source": [
    "def filter_labels(dataset, label_column, clean_list_labels):\n",
    "    df = dataset.copy()\n",
    "    # application au dataset\n",
    "    df[label_column] = [', '.join(map(str, [get_general_label(y) for y in x.split(\n",
    "        \", \") if y in clean_list_labels.index])) for x in df[label_column]]\n",
    "    # suppression doublons apres fusion\n",
    "    df[label_column] = [', '.join(set(i.split(\", \")))\n",
    "                        for i in df[label_column]]\n",
    "\n",
    "    # suppression des posts sans label du dataset\n",
    "    clean_df = df[df[label_column] != '']\n",
    "    print('La table est passée de {} posts à {} posts après suppression des posts sans tags'.format(\n",
    "        df.shape[0], clean_df.shape[0]))\n",
    "\n",
    "    return clean_df"
   ]
  },
  {
   "cell_type": "code",
   "execution_count": 247,
   "metadata": {},
   "outputs": [
    {
     "name": "stdout",
     "output_type": "stream",
     "text": [
      "android        2821\n",
      "python         2753\n",
      "javascript     2582\n",
      "java           2323\n",
      "c#             1732\n",
      "               ... \n",
      "base-url          1\n",
      "cpanel            1\n",
      "exponentjs        1\n",
      "caanimation       1\n",
      "                  1\n",
      "Length: 6401, dtype: int64\n",
      "86 tags sur 6401 ont été conservés\n",
      "La table est passée de 23215 posts à 20807 posts après suppression des posts sans tags\n",
      "La table est passée de 5570 posts à 4992 posts après suppression des posts sans tags\n"
     ]
    }
   ],
   "source": [
    "# Extraction des labels\n",
    "train['Labels'] = extract_label(train['Tags'])\n",
    "test['Labels'] = extract_label(test['Tags'])\n",
    "\n",
    "# Filtrage sur tags les plus fréquents du jeu d'entrainement\n",
    "clean_list_labels = get_most_frequent_label(train['Labels'], 100)\n",
    "clean_train = filter_labels(train, 'Labels', clean_list_labels)\n",
    "clean_test = filter_labels(test, 'Labels', clean_list_labels)"
   ]
  },
  {
   "cell_type": "markdown",
   "metadata": {},
   "source": [
    "##### Malgré que le problème soit à l'origine un problème multilabels. On ne va conserver qu'un seul label par question pour des questions de performance, on va donc passer à un problème unilabel. "
   ]
  },
  {
   "cell_type": "markdown",
   "metadata": {},
   "source": [
    "##### En effet, dans le cadre multilabel on serait parti :\n",
    "- soit sur un algorithme de Deep learning bien trop lourd pour nos capactiés actuelles\n",
    "- soit sur un algorithme One Versus the Rest où un modèle binaire est créée pour chaque tag. Dans ce cas soit on aurait du réduire drastiquement le nombre de tags (déjà fortement réduits), soit on explose nos capacités.\n",
    "\n",
    "Aucune de ces solutions n'étant envisageables, on passe en unilabel"
   ]
  },
  {
   "cell_type": "code",
   "execution_count": 248,
   "metadata": {},
   "outputs": [],
   "source": [
    "# conservation un tag par question pour question de performances/puissance\n",
    "clean_train['Label'] = [x.split(', ')[0] for x in clean_train[\"Labels\"]]\n",
    "clean_test['Label'] = [x.split(', ')[0] for x in clean_test[\"Labels\"]]"
   ]
  },
  {
   "cell_type": "markdown",
   "metadata": {},
   "source": [
    "##### On s'assure encore une fois qu'aucun post sans tag ne reste dans nos datasets"
   ]
  },
  {
   "cell_type": "code",
   "execution_count": 249,
   "metadata": {},
   "outputs": [
    {
     "name": "stdout",
     "output_type": "stream",
     "text": [
      "java         2059\n",
      "python       1533\n",
      "android      1291\n",
      "git           972\n",
      "html          955\n",
      "             ... \n",
      "spring         17\n",
      "forms          14\n",
      "exception      13\n",
      "tsql            6\n",
      "dataframe       1\n",
      "Length: 86, dtype: int64\n",
      "85 tags sur 86 ont été conservés\n",
      "La table est passée de 20807 posts à 20806 posts après suppression des posts sans tags\n",
      "La table est passée de 4992 posts à 4991 posts après suppression des posts sans tags\n"
     ]
    }
   ],
   "source": [
    "# suppression question du jeu de test qui ont un tag non existant dans jeu de train\n",
    "# Filtrage sur tags les plus fréquents du jeu d'entrainement\n",
    "clean_list_labels = get_most_frequent_label(clean_train['Label'])\n",
    "clean_train = filter_labels(clean_train, 'Label', clean_list_labels)\n",
    "clean_test = filter_labels(clean_test, 'Label', clean_list_labels)"
   ]
  },
  {
   "cell_type": "code",
   "execution_count": 250,
   "metadata": {},
   "outputs": [
    {
     "data": {
      "text/html": [
       "<div>\n",
       "<style scoped>\n",
       "    .dataframe tbody tr th:only-of-type {\n",
       "        vertical-align: middle;\n",
       "    }\n",
       "\n",
       "    .dataframe tbody tr th {\n",
       "        vertical-align: top;\n",
       "    }\n",
       "\n",
       "    .dataframe thead th {\n",
       "        text-align: right;\n",
       "    }\n",
       "</style>\n",
       "<table border=\"1\" class=\"dataframe\">\n",
       "  <thead>\n",
       "    <tr style=\"text-align: right;\">\n",
       "      <th></th>\n",
       "      <th>Body</th>\n",
       "      <th>Title</th>\n",
       "      <th>Tags</th>\n",
       "      <th>Labels</th>\n",
       "      <th>Label</th>\n",
       "    </tr>\n",
       "  </thead>\n",
       "  <tbody>\n",
       "    <tr>\n",
       "      <th>20</th>\n",
       "      <td>&lt;p&gt;Bearing in mind that I'll be performing cal...</td>\n",
       "      <td>What is the ideal data type to use when storin...</td>\n",
       "      <td>&lt;mysql&gt;&lt;database-design&gt;&lt;maps&gt;&lt;mapping&gt;&lt;latitu...</td>\n",
       "      <td>mysql</td>\n",
       "      <td>mysql</td>\n",
       "    </tr>\n",
       "    <tr>\n",
       "      <th>22</th>\n",
       "      <td>&lt;p&gt;In Xcode 3, the line number of the current ...</td>\n",
       "      <td>Where do I find the line number in the Xcode e...</td>\n",
       "      <td>&lt;xcode&gt;</td>\n",
       "      <td>xcode</td>\n",
       "      <td>xcode</td>\n",
       "    </tr>\n",
       "    <tr>\n",
       "      <th>40</th>\n",
       "      <td>&lt;p&gt;I have a bitmap taken of a Base64 String fr...</td>\n",
       "      <td>How to Resize a Bitmap in Android?</td>\n",
       "      <td>&lt;android&gt;&lt;bitmap&gt;&lt;base64&gt;</td>\n",
       "      <td>android</td>\n",
       "      <td>android</td>\n",
       "    </tr>\n",
       "    <tr>\n",
       "      <th>48</th>\n",
       "      <td>&lt;p&gt;I'm working on networking for my app. So I ...</td>\n",
       "      <td>When should one use RxJava Observable and when...</td>\n",
       "      <td>&lt;android&gt;&lt;retrofit&gt;&lt;rx-java&gt;</td>\n",
       "      <td>android</td>\n",
       "      <td>android</td>\n",
       "    </tr>\n",
       "    <tr>\n",
       "      <th>51</th>\n",
       "      <td>&lt;p&gt;I am trying to calculate the height of a UI...</td>\n",
       "      <td>Figure out size of UILabel based on String in ...</td>\n",
       "      <td>&lt;ios&gt;&lt;iphone&gt;&lt;string&gt;&lt;swift3&gt;&lt;uilabel&gt;</td>\n",
       "      <td>ios, string, iphone</td>\n",
       "      <td>ios</td>\n",
       "    </tr>\n",
       "  </tbody>\n",
       "</table>\n",
       "</div>"
      ],
      "text/plain": [
       "                                                 Body  \\\n",
       "20  <p>Bearing in mind that I'll be performing cal...   \n",
       "22  <p>In Xcode 3, the line number of the current ...   \n",
       "40  <p>I have a bitmap taken of a Base64 String fr...   \n",
       "48  <p>I'm working on networking for my app. So I ...   \n",
       "51  <p>I am trying to calculate the height of a UI...   \n",
       "\n",
       "                                                Title  \\\n",
       "20  What is the ideal data type to use when storin...   \n",
       "22  Where do I find the line number in the Xcode e...   \n",
       "40                 How to Resize a Bitmap in Android?   \n",
       "48  When should one use RxJava Observable and when...   \n",
       "51  Figure out size of UILabel based on String in ...   \n",
       "\n",
       "                                                 Tags               Labels  \\\n",
       "20  <mysql><database-design><maps><mapping><latitu...                mysql   \n",
       "22                                            <xcode>                xcode   \n",
       "40                          <android><bitmap><base64>              android   \n",
       "48                       <android><retrofit><rx-java>              android   \n",
       "51             <ios><iphone><string><swift3><uilabel>  ios, string, iphone   \n",
       "\n",
       "      Label  \n",
       "20    mysql  \n",
       "22    xcode  \n",
       "40  android  \n",
       "48  android  \n",
       "51      ios  "
      ]
     },
     "execution_count": 250,
     "metadata": {},
     "output_type": "execute_result"
    }
   ],
   "source": [
    "clean_train.head()"
   ]
  },
  {
   "cell_type": "markdown",
   "metadata": {},
   "source": [
    "## B.2. Variables d'entrée texte"
   ]
  },
  {
   "cell_type": "markdown",
   "metadata": {},
   "source": [
    "##### Voici ci dessous un exemple de texte sur lequel effectuer nos traitements"
   ]
  },
  {
   "cell_type": "code",
   "execution_count": 251,
   "metadata": {},
   "outputs": [
    {
     "data": {
      "text/plain": [
       "\"<p>Bearing in mind that I'll be performing calculations on lat / long pairs, what datatype is best suited for use with a MySQL database?</p>\\n\""
      ]
     },
     "execution_count": 251,
     "metadata": {},
     "output_type": "execute_result"
    }
   ],
   "source": [
    "clean_train.loc[20, 'Body']"
   ]
  },
  {
   "cell_type": "markdown",
   "metadata": {},
   "source": [
    "### B.2.a. Suppression balises HTML"
   ]
  },
  {
   "cell_type": "markdown",
   "metadata": {},
   "source": [
    "##### On commence par supprimer les balises HTML qui formatent notre texte."
   ]
  },
  {
   "cell_type": "code",
   "execution_count": 252,
   "metadata": {},
   "outputs": [],
   "source": [
    "def del_html(serie):\n",
    "    basic_regex = '[ \\n\\r\\t]'\n",
    "    clean_serie = [re.sub(basic_regex, \" \", x) for x in serie]\n",
    "    return [BeautifulSoup(x, 'html.parser').get_text() for x in clean_serie]"
   ]
  },
  {
   "cell_type": "markdown",
   "metadata": {},
   "source": [
    "### B.2.c. Concaténation titre et body"
   ]
  },
  {
   "cell_type": "code",
   "execution_count": 253,
   "metadata": {},
   "outputs": [],
   "source": [
    "def get_full_text(dataset, text1, text2):\n",
    "    return [str(x) + ' ' + y for x, y in zip(dataset[text1], dataset[text2])]"
   ]
  },
  {
   "cell_type": "code",
   "execution_count": 254,
   "metadata": {},
   "outputs": [],
   "source": [
    "#clean_train['Clean_body'] = del_code(clean_train['Body'])\n",
    "clean_train['Clean_body'] = del_html(clean_train['Body'])\n",
    "clean_train['Text'] = get_full_text(clean_train, 'Title', 'Clean_body')\n",
    "\n",
    "#clean_test['Clean_body'] = del_code(clean_test['Body'])\n",
    "clean_test['Clean_body'] = del_html(clean_test['Body'])\n",
    "clean_test['Text'] = get_full_text(clean_test, 'Title', 'Clean_body')"
   ]
  },
  {
   "cell_type": "markdown",
   "metadata": {},
   "source": [
    "##### Voici le même texte que précédemment après concaténation avec son titre et nettoyage des balises HTML "
   ]
  },
  {
   "cell_type": "code",
   "execution_count": 255,
   "metadata": {},
   "outputs": [
    {
     "data": {
      "text/plain": [
       "\"What is the ideal data type to use when storing latitude / longitude in a MySQL database? Bearing in mind that I'll be performing calculations on lat / long pairs, what datatype is best suited for use with a MySQL database? \""
      ]
     },
     "execution_count": 255,
     "metadata": {},
     "output_type": "execute_result"
    }
   ],
   "source": [
    "clean_train.loc[20, 'Text']"
   ]
  },
  {
   "cell_type": "markdown",
   "metadata": {},
   "source": [
    "### B.2.d. Tokenisation / Lemmatisation / Stop words"
   ]
  },
  {
   "cell_type": "markdown",
   "metadata": {},
   "source": [
    "##### Maintenant on passe aux étapes de tokenisation, normalisation et filtrage de notre corpus"
   ]
  },
  {
   "cell_type": "code",
   "execution_count": 256,
   "metadata": {},
   "outputs": [],
   "source": [
    "wnLemma = nltk.stem.WordNetLemmatizer()"
   ]
  },
  {
   "cell_type": "code",
   "execution_count": 257,
   "metadata": {},
   "outputs": [],
   "source": [
    "def tokenize(serie_text, stop_words):\n",
    "    # Tokenization\n",
    "    # Remplacement négation 'nt par not\n",
    "    tokens_serie = [text.replace(\"n't\", \" not\") for text in serie_text]\n",
    "    # passage en minuscule \n",
    "    tokens_serie = [[t.lower() for t in nltk.word_tokenize(\n",
    "        text)] for text in tokens_serie]\n",
    "    #Suppression de la ponctuation et caractères numériques\n",
    "    pattern = '[^a-z.+-]+' # on garde + . et - pour les motys type 'my-sql', '.net', 'c++'\n",
    "    tokens_serie = [[re.sub(pattern, '', t) for t in tokens if re.sub(pattern, '', t) != ''] for tokens in tokens_serie]  \n",
    "    # lemmatisation et Suppression des stopwords\n",
    "    tokens_serie = [[wnLemma.lemmatize(\n",
    "        t) for t in tokens if t not in stop_words] for tokens in tokens_serie]\n",
    "    return tokens_serie"
   ]
  },
  {
   "cell_type": "code",
   "execution_count": 258,
   "metadata": {},
   "outputs": [],
   "source": [
    "def text_from_tokens(serie_tokens):\n",
    "    serie_text = [' '.join([y for y in x])for x in serie_tokens]\n",
    "    return serie_text"
   ]
  },
  {
   "cell_type": "code",
   "execution_count": 259,
   "metadata": {},
   "outputs": [],
   "source": [
    "# Récupération des stop words anglais\n",
    "try:\n",
    "    stopwords = nltk.corpus.stopwords.words('english')\n",
    "except LookupError:\n",
    "    nltk.download('stopwords')\n",
    "    stopwords = nltk.corpus.stopwords.words('english')\n",
    "\n",
    "#Lemmatisation des stopwords pour rester cohérent\n",
    "lemma_stopwords = [wnLemma.lemmatize(y) for y in stopwords]\n",
    "#Ajout des stopwords lemmatisés et à la ponctuation restante indésirable à notre liste initale\n",
    "stopwords = set(stopwords + lemma_stopwords + ['.', '', '-', '...', '--', '..', '+'])"
   ]
  },
  {
   "cell_type": "code",
   "execution_count": 260,
   "metadata": {},
   "outputs": [
    {
     "data": {
      "text/plain": [
       "['', 'have', \"isn't\", 'where', 'out', '+', 'there', \"aren't\", 'other', 've']"
      ]
     },
     "execution_count": 260,
     "metadata": {},
     "output_type": "execute_result"
    }
   ],
   "source": [
    "list(stopwords)[:10]"
   ]
  },
  {
   "cell_type": "code",
   "execution_count": null,
   "metadata": {},
   "outputs": [],
   "source": [
    "clean_train['Tokens'] = tokenize(clean_train['Text'], stopwords)\n",
    "clean_test['Tokens'] = tokenize(clean_test['Text'], stopwords)"
   ]
  },
  {
   "cell_type": "code",
   "execution_count": null,
   "metadata": {},
   "outputs": [],
   "source": [
    "clean_train.head()"
   ]
  },
  {
   "cell_type": "markdown",
   "metadata": {},
   "source": [
    "##### Voici le texte précécent après les prétraitements (sous forme de tokens)"
   ]
  },
  {
   "cell_type": "code",
   "execution_count": null,
   "metadata": {},
   "outputs": [],
   "source": [
    "clean_train.loc[20, 'Tokens']"
   ]
  },
  {
   "cell_type": "markdown",
   "metadata": {},
   "source": [
    "### B.2.e. Suppression mots avec faible occurence"
   ]
  },
  {
   "cell_type": "markdown",
   "metadata": {},
   "source": [
    "##### Pour limiter la complexité et améliorer nos performances on réduit de même que pour les tags, le nombre de mots qui va être analysés. On se fixe alors un seuil d'occurence minimal"
   ]
  },
  {
   "cell_type": "code",
   "execution_count": null,
   "metadata": {},
   "outputs": [],
   "source": [
    "def get_most_frequent_words(series, threshold=100):\n",
    "    # récupération de tous les labels\n",
    "    list_words = [j for i in series for j in i]\n",
    "\n",
    "    # On conserve les labels dont la fréquence d'apparition est > threshold\n",
    "    freq = pd.Series(list_words).value_counts()\n",
    "    print(freq)\n",
    "    clean_list_words = freq[freq > threshold]\n",
    "    print('{} mots sur {} ont été conservés'.format(\n",
    "        clean_list_words.shape[0], freq.shape[0]))\n",
    "\n",
    "    return clean_list_words"
   ]
  },
  {
   "cell_type": "markdown",
   "metadata": {},
   "source": [
    "##### On applique la liste de mots réduites à nos deux jeux de données"
   ]
  },
  {
   "cell_type": "code",
   "execution_count": null,
   "metadata": {},
   "outputs": [],
   "source": [
    "def filter_words(dataset, tokens_column, clean_list_words):\n",
    "    df = dataset.copy()\n",
    "    # application au dataset\n",
    "    df[tokens_column] = [[y for y in x if y in clean_list_words.index]\n",
    "                         for x in df[tokens_column]]\n",
    "\n",
    "    # Application au texte\n",
    "    df['Text'] = text_from_tokens(df[tokens_column])\n",
    "    df['Text'] = text_from_tokens(df[tokens_column])\n",
    "\n",
    "    # suppression des posts sans texte du dataset\n",
    "    clean_df = df[df['Text'] != '']\n",
    "    print('La table est passée de {} posts à {} posts après suppression des posts sans texte'.format(\n",
    "        df.shape[0], clean_df.shape[0]))\n",
    "\n",
    "    return clean_df"
   ]
  },
  {
   "cell_type": "markdown",
   "metadata": {},
   "source": [
    "##### On vérifie aussi qu'aucun post ne se retrouve sans texte"
   ]
  },
  {
   "cell_type": "code",
   "execution_count": null,
   "metadata": {},
   "outputs": [],
   "source": [
    "# Filtrage sur tokens les plus fréquents du jeu d'entrainement\n",
    "clean_list_words = get_most_frequent_words(clean_train['Tokens'], 150)\n",
    "clean_train_2 = filter_words(clean_train, 'Tokens', clean_list_words)\n",
    "clean_test_2 = filter_words(clean_test, 'Tokens', clean_list_words)"
   ]
  },
  {
   "cell_type": "code",
   "execution_count": null,
   "metadata": {},
   "outputs": [],
   "source": [
    "final_train = clean_train_2.drop(columns=['Body', 'Title', 'Tags', 'Clean_body'])\n",
    "final_test = clean_test_2.drop(columns=['Body', 'Title', 'Tags', 'Clean_body'])"
   ]
  },
  {
   "cell_type": "code",
   "execution_count": null,
   "metadata": {},
   "outputs": [],
   "source": [
    "print(final_train.shape)\n",
    "final_train.head()"
   ]
  },
  {
   "cell_type": "markdown",
   "metadata": {},
   "source": [
    "# C. Exploration"
   ]
  },
  {
   "cell_type": "markdown",
   "metadata": {},
   "source": [
    "## C.1. Labels"
   ]
  },
  {
   "cell_type": "code",
   "execution_count": null,
   "metadata": {},
   "outputs": [],
   "source": [
    "all_clean_labels = [i for i in final_train['Label']]\n",
    "freq = pd.Series(all_clean_labels).value_counts()"
   ]
  },
  {
   "cell_type": "code",
   "execution_count": null,
   "metadata": {},
   "outputs": [],
   "source": [
    "plt.figure(figsize=(30, 5))\n",
    "plt.xlabel('Labels')\n",
    "plt.ylabel('Densité')\n",
    "freq.plot(kind='bar', title='Les tags les plus fréquents par occurence')\n",
    "plt.savefig('frequent_tags.png', bbox_inches='tight')"
   ]
  },
  {
   "cell_type": "code",
   "execution_count": null,
   "metadata": {},
   "outputs": [],
   "source": [
    "print('{} tags différents existent'.format(freq.shape[0]))"
   ]
  },
  {
   "cell_type": "markdown",
   "metadata": {},
   "source": [
    "## C.2 Mots"
   ]
  },
  {
   "cell_type": "code",
   "execution_count": null,
   "metadata": {},
   "outputs": [],
   "source": [
    "all_words = [j for i in final_train['Tokens'] for j in i if j != '']\n",
    "c = Counter(all_words)\n",
    "k, v = zip(*c.most_common())"
   ]
  },
  {
   "cell_type": "code",
   "execution_count": null,
   "metadata": {},
   "outputs": [],
   "source": [
    "plt.figure(figsize=(30, 5))\n",
    "plt.xlabel('Mots')\n",
    "plt.ylabel('Effectifs')\n",
    "plt.xticks(rotation=90)\n",
    "plt.xlim(-0.5, 99.5)\n",
    "plt.title('Les 100 mots les plus fréquents par occurence')\n",
    "plt.bar(k[:100], v[:100])\n",
    "plt.savefig('frequent_words.png', bbox_inches='tight')"
   ]
  },
  {
   "cell_type": "code",
   "execution_count": null,
   "metadata": {},
   "outputs": [],
   "source": [
    "print('{} mots différents existent'.format(len(k)))"
   ]
  },
  {
   "cell_type": "code",
   "execution_count": null,
   "metadata": {},
   "outputs": [],
   "source": [
    "wordcloud = WordCloud(width=1000, height=500).generate_from_frequencies(c)\n",
    "plt.figure(figsize=(15, 15))\n",
    "plt.imshow(wordcloud, interpolation='bilinear')\n",
    "plt.axis('off')\n",
    "plt.savefig('wordcloud_words.png', bbox_inches='tight')"
   ]
  },
  {
   "cell_type": "markdown",
   "metadata": {},
   "source": [
    "# D. Export des données"
   ]
  },
  {
   "cell_type": "code",
   "execution_count": null,
   "metadata": {},
   "outputs": [],
   "source": [
    "print('Le jeu d\\'entrainement contient finalement {} documents'.format(final_train.shape[0]))\n",
    "print('Le jeu de test contient finalement {} documents'.format(final_test.shape[0]))\n",
    "final_train.head()"
   ]
  },
  {
   "cell_type": "code",
   "execution_count": null,
   "metadata": {},
   "outputs": [],
   "source": [
    "print('{} tags différents existent dans le jeu d\\'entrainement'.format(len(set(final_train['Label']))))\n",
    "print('{} tags différents existent dans le jeu de test'.format(len(set(final_test['Label']))))"
   ]
  },
  {
   "cell_type": "code",
   "execution_count": null,
   "metadata": {},
   "outputs": [],
   "source": [
    "final_train.to_csv('clean_train.csv', index=False)\n",
    "final_test.to_csv('clean_test.csv', index=False)"
   ]
  }
 ],
 "metadata": {
  "kernelspec": {
   "display_name": "Python 3",
   "language": "python",
   "name": "python3"
  },
  "language_info": {
   "codemirror_mode": {
    "name": "ipython",
    "version": 3
   },
   "file_extension": ".py",
   "mimetype": "text/x-python",
   "name": "python",
   "nbconvert_exporter": "python",
   "pygments_lexer": "ipython3",
   "version": "3.8.3"
  },
  "toc-autonumbering": false,
  "toc-showcode": false,
  "toc-showmarkdowntxt": false,
  "toc-showtags": false
 },
 "nbformat": 4,
 "nbformat_minor": 4
}
